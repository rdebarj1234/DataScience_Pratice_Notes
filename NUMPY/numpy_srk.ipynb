{
 "cells": [
  {
   "cell_type": "markdown",
   "id": "43d9d3fd-67e0-407e-9ac5-5d22303fbdaa",
   "metadata": {},
   "source": [
    "# Numpy\n",
    "used for mathematical and stastical operation its fast and memory efficient"
   ]
  },
  {
   "cell_type": "code",
   "execution_count": 1,
   "id": "5d5faf4c-6344-42bd-a8a4-f21665f632ed",
   "metadata": {},
   "outputs": [
    {
     "data": {
      "text/plain": [
       "'1.25.2'"
      ]
     },
     "execution_count": 1,
     "metadata": {},
     "output_type": "execute_result"
    }
   ],
   "source": [
    "import numpy as np\n",
    "np.__version__"
   ]
  },
  {
   "cell_type": "code",
   "execution_count": 2,
   "id": "cea11f6a-106b-4b8c-9847-5ad0b036b6ab",
   "metadata": {},
   "outputs": [
    {
     "name": "stdout",
     "output_type": "stream",
     "text": [
      "45\n",
      "<class 'int'>\n"
     ]
    }
   ],
   "source": [
    "a=45\n",
    "print(a)\n",
    "print(type(a))"
   ]
  },
  {
   "cell_type": "code",
   "execution_count": 3,
   "id": "b7549fa7-1ec1-473f-bf94-c0feaa23a1cb",
   "metadata": {},
   "outputs": [
    {
     "data": {
      "text/plain": [
       "array(45)"
      ]
     },
     "execution_count": 3,
     "metadata": {},
     "output_type": "execute_result"
    }
   ],
   "source": [
    "b=np.array(a)\n",
    "b"
   ]
  },
  {
   "cell_type": "code",
   "execution_count": 5,
   "id": "0fc0ce60-05ae-4a39-8add-b7f9123fb6fc",
   "metadata": {},
   "outputs": [
    {
     "data": {
      "text/plain": [
       "numpy.ndarray"
      ]
     },
     "execution_count": 5,
     "metadata": {},
     "output_type": "execute_result"
    }
   ],
   "source": [
    "type(b)"
   ]
  },
  {
   "cell_type": "code",
   "execution_count": 6,
   "id": "b6f44511-be2d-4420-ae79-2f164b041b6a",
   "metadata": {},
   "outputs": [
    {
     "data": {
      "text/plain": [
       "array(45)"
      ]
     },
     "execution_count": 6,
     "metadata": {},
     "output_type": "execute_result"
    }
   ],
   "source": [
    "b"
   ]
  },
  {
   "cell_type": "code",
   "execution_count": 7,
   "id": "c1a0d123-4978-4fbb-b049-06fda2a06c6b",
   "metadata": {},
   "outputs": [
    {
     "data": {
      "text/plain": [
       "0"
      ]
     },
     "execution_count": 7,
     "metadata": {},
     "output_type": "execute_result"
    }
   ],
   "source": [
    "b.ndim"
   ]
  },
  {
   "cell_type": "code",
   "execution_count": 8,
   "id": "98159086-7e1b-408d-a933-6696b5f68b93",
   "metadata": {},
   "outputs": [
    {
     "data": {
      "text/plain": [
       "()"
      ]
     },
     "execution_count": 8,
     "metadata": {},
     "output_type": "execute_result"
    }
   ],
   "source": [
    "b.shape"
   ]
  },
  {
   "cell_type": "markdown",
   "id": "0da4ea5c-610b-4955-97bf-5bc245ab9fef",
   "metadata": {},
   "source": [
    "# 1D"
   ]
  },
  {
   "cell_type": "code",
   "execution_count": 9,
   "id": "746d859a-5adf-4a14-a104-0cd33f9588ef",
   "metadata": {},
   "outputs": [
    {
     "name": "stdout",
     "output_type": "stream",
     "text": [
      "[10 20 30]\n",
      "<class 'numpy.ndarray'>\n"
     ]
    }
   ],
   "source": [
    "a=[10,20,30]\n",
    "b=np.array(a)\n",
    "print(b)\n",
    "print(type(b))"
   ]
  },
  {
   "cell_type": "code",
   "execution_count": 10,
   "id": "3dd3c20a-b668-46b6-9cae-969a51e69f9b",
   "metadata": {},
   "outputs": [],
   "source": [
    "a=np.arange(11)"
   ]
  },
  {
   "cell_type": "code",
   "execution_count": 11,
   "id": "e9d8d116-1de7-4a1d-b0d2-1ef878cb1b5c",
   "metadata": {},
   "outputs": [
    {
     "data": {
      "text/plain": [
       "array([ 0,  1,  2,  3,  4,  5,  6,  7,  8,  9, 10])"
      ]
     },
     "execution_count": 11,
     "metadata": {},
     "output_type": "execute_result"
    }
   ],
   "source": [
    "a"
   ]
  },
  {
   "cell_type": "code",
   "execution_count": 14,
   "id": "7f8b3342-ca02-4733-98bb-077d0a23ed62",
   "metadata": {},
   "outputs": [
    {
     "data": {
      "text/plain": [
       "array([1., 2., 3., 4., 5.])"
      ]
     },
     "execution_count": 14,
     "metadata": {},
     "output_type": "execute_result"
    }
   ],
   "source": [
    "np.linspace(1,5,5)"
   ]
  },
  {
   "cell_type": "code",
   "execution_count": 15,
   "id": "58ff5299-b9ba-4507-96f4-09e1bf21e387",
   "metadata": {},
   "outputs": [
    {
     "data": {
      "text/plain": [
       "array([1.        , 1.44444444, 1.88888889, 2.33333333, 2.77777778,\n",
       "       3.22222222, 3.66666667, 4.11111111, 4.55555556, 5.        ])"
      ]
     },
     "execution_count": 15,
     "metadata": {},
     "output_type": "execute_result"
    }
   ],
   "source": [
    "np.linspace(1,5,10)"
   ]
  },
  {
   "cell_type": "code",
   "execution_count": 17,
   "id": "4a5e3fdf-658d-4b0d-a9c1-e0897c0cdbe6",
   "metadata": {},
   "outputs": [
    {
     "data": {
      "text/plain": [
       "array([0, 0])"
      ]
     },
     "execution_count": 17,
     "metadata": {},
     "output_type": "execute_result"
    }
   ],
   "source": [
    "np.zeros((2,),dtype=int)"
   ]
  },
  {
   "cell_type": "code",
   "execution_count": 18,
   "id": "fe3d69f9-be43-4dd6-9d5b-2b00f0b16163",
   "metadata": {},
   "outputs": [
    {
     "data": {
      "text/plain": [
       "array([108, 182, 731, 430, 266, 191, 770, 552,  25, 670, 691, 984, 969,\n",
       "       279, 397, 945, 482, 556,  45, 917, 270,  37, 446, 539, 858, 222,\n",
       "       200, 255, 324, 664, 711, 531, 840,   7, 219, 117, 953, 952, 424,\n",
       "        59, 597, 472, 145, 225, 600, 367, 556, 168, 824, 859, 260,  73,\n",
       "       353, 398, 714, 309, 338,  93, 252, 542, 261, 547, 530, 917, 624,\n",
       "       783, 822, 758, 234, 285, 379, 740, 552,  70, 692, 803,  65,  84,\n",
       "       751,  56, 166, 352, 166, 906, 240, 402, 256, 461, 813, 924, 851,\n",
       "       469, 947, 194, 612, 450,  89,  35, 722, 736])"
      ]
     },
     "execution_count": 18,
     "metadata": {},
     "output_type": "execute_result"
    }
   ],
   "source": [
    "np.random.randint(1,1000,100)"
   ]
  },
  {
   "cell_type": "code",
   "execution_count": 19,
   "id": "b326748b-1907-4abd-b79a-d55b7e6beac7",
   "metadata": {},
   "outputs": [
    {
     "data": {
      "text/plain": [
       "array([587, 251, 413, 438,  90, 693, 830, 836, 995, 517, 231, 375, 949,\n",
       "       748, 513,  73, 145, 677, 612, 290, 718, 930, 931, 972, 565,  78,\n",
       "       204,  20, 332, 781, 457, 183, 251, 330, 418, 748,  85, 501, 385,\n",
       "       420, 142, 803, 761, 569, 259, 408, 313, 804, 921, 310, 176,  96,\n",
       "       139, 327, 562, 296, 695, 565, 956, 825, 126, 275, 269, 447, 269,\n",
       "       170, 748, 544, 215, 532, 965, 726, 560, 371, 120, 174, 893,  42,\n",
       "       786, 103, 835,  89, 115, 713, 596, 636, 666, 669, 655, 337, 849,\n",
       "       396, 737, 900, 263, 156, 640, 749, 555, 871])"
      ]
     },
     "execution_count": 19,
     "metadata": {},
     "output_type": "execute_result"
    }
   ],
   "source": [
    "np.random.randint(1,1000,100)"
   ]
  },
  {
   "cell_type": "code",
   "execution_count": 20,
   "id": "ae708d34-8941-4064-9608-a67d0b0fc9a9",
   "metadata": {},
   "outputs": [
    {
     "data": {
      "text/plain": [
       "array([497, 661, 142, 554, 796, 666, 873, 560, 483, 553, 151, 640, 859,\n",
       "       352,  95, 471, 778, 606, 215, 818, 214,  26, 762,  25, 776, 451,\n",
       "        12, 707, 354, 553, 839, 174, 532, 743, 482, 729, 150, 852, 258,\n",
       "       897, 437, 466, 604,  39,  15, 989, 401,  64, 374, 682,  63, 380,\n",
       "       141, 419, 291, 574, 353, 971, 978, 627, 293, 560, 145, 841, 997,\n",
       "       738, 629, 971, 834, 314, 130, 309, 974, 472, 257, 587, 555,  15,\n",
       "       421, 697, 320,  60, 827, 508, 130, 572, 398, 818,  74, 286, 656,\n",
       "       649, 424, 284, 434, 157, 713, 586, 460, 118])"
      ]
     },
     "execution_count": 20,
     "metadata": {},
     "output_type": "execute_result"
    }
   ],
   "source": [
    "np.random.randint(1,1000,100)"
   ]
  },
  {
   "cell_type": "code",
   "execution_count": 21,
   "id": "b5d6b5bb-02f2-4b2b-854c-8f813e4a78be",
   "metadata": {},
   "outputs": [
    {
     "data": {
      "text/plain": [
       "array([882, 536, 497, 247, 854,   9, 773, 858,  86, 726, 501, 298, 849,\n",
       "       552, 177, 321, 962, 343, 785, 904, 709, 107, 505, 453, 236, 894,\n",
       "       647, 838, 467, 976, 233, 437, 834, 623, 339, 448, 878,  89, 151,\n",
       "       403, 243, 982, 111, 712, 653, 456, 500,  43, 496, 938, 727, 945,\n",
       "       383,  86,  70, 530, 382, 725,  20, 152, 323,  22, 459, 531, 606,\n",
       "       590, 551, 274, 455, 139, 318, 768, 673, 532, 498, 961, 180, 355,\n",
       "        11, 933, 837, 524, 753, 985, 522, 205, 549, 510, 419, 884, 375,\n",
       "       365, 485, 772, 706,  82, 798, 897, 962, 847])"
      ]
     },
     "execution_count": 21,
     "metadata": {},
     "output_type": "execute_result"
    }
   ],
   "source": [
    "np.random.randint(1,1000,100)"
   ]
  },
  {
   "cell_type": "code",
   "execution_count": 22,
   "id": "cda44df1-ea05-44d2-b78c-42ac030c9635",
   "metadata": {},
   "outputs": [
    {
     "data": {
      "text/plain": [
       "array([10, 20, 30, 40, 50])"
      ]
     },
     "execution_count": 22,
     "metadata": {},
     "output_type": "execute_result"
    }
   ],
   "source": [
    "a=np.arange(10,51,10)\n",
    "a"
   ]
  },
  {
   "cell_type": "code",
   "execution_count": 23,
   "id": "03003994-3f4f-4a6b-98d2-c54bfaa5bbaf",
   "metadata": {},
   "outputs": [
    {
     "data": {
      "text/plain": [
       "10"
      ]
     },
     "execution_count": 23,
     "metadata": {},
     "output_type": "execute_result"
    }
   ],
   "source": [
    "a[0]"
   ]
  },
  {
   "cell_type": "code",
   "execution_count": 24,
   "id": "bbbf7b37-7542-4dcb-b77b-ee919c745734",
   "metadata": {},
   "outputs": [
    {
     "data": {
      "text/plain": [
       "50"
      ]
     },
     "execution_count": 24,
     "metadata": {},
     "output_type": "execute_result"
    }
   ],
   "source": [
    "a[-1]"
   ]
  },
  {
   "cell_type": "code",
   "execution_count": 25,
   "id": "82461618-378c-4998-bac6-e7ce1aaefb48",
   "metadata": {},
   "outputs": [
    {
     "data": {
      "text/plain": [
       "array([20, 40])"
      ]
     },
     "execution_count": 25,
     "metadata": {},
     "output_type": "execute_result"
    }
   ],
   "source": [
    "a[1:5:2]"
   ]
  },
  {
   "cell_type": "code",
   "execution_count": 26,
   "id": "66ab9c57-751e-4f2c-9532-f50ab0c2d1da",
   "metadata": {},
   "outputs": [
    {
     "data": {
      "text/plain": [
       "array([50, 40, 30])"
      ]
     },
     "execution_count": 26,
     "metadata": {},
     "output_type": "execute_result"
    }
   ],
   "source": [
    "a[-1:-4:-1]"
   ]
  },
  {
   "cell_type": "code",
   "execution_count": 28,
   "id": "b81d45c9-f2f5-4638-8206-ad0fdbf5b5a3",
   "metadata": {},
   "outputs": [
    {
     "data": {
      "text/plain": [
       "array([10, 20, 30])"
      ]
     },
     "execution_count": 28,
     "metadata": {},
     "output_type": "execute_result"
    }
   ],
   "source": [
    "a[[0,1,2]]"
   ]
  },
  {
   "cell_type": "code",
   "execution_count": 29,
   "id": "830a38e4-6759-496b-a306-d1585310de3c",
   "metadata": {},
   "outputs": [
    {
     "data": {
      "text/plain": [
       "array([10, 20, 30, 40, 50])"
      ]
     },
     "execution_count": 29,
     "metadata": {},
     "output_type": "execute_result"
    }
   ],
   "source": [
    "a"
   ]
  },
  {
   "cell_type": "code",
   "execution_count": 32,
   "id": "db0d89d8-d048-4264-808a-5d78385649fd",
   "metadata": {},
   "outputs": [
    {
     "data": {
      "text/plain": [
       "array([46, 42, 20])"
      ]
     },
     "execution_count": 32,
     "metadata": {},
     "output_type": "execute_result"
    }
   ],
   "source": [
    "a=np.array([45,46,42,20,47])\n",
    "a[a%2==0]"
   ]
  },
  {
   "cell_type": "code",
   "execution_count": 34,
   "id": "195c5ddf-ea3a-460a-8070-73a18f7e4779",
   "metadata": {},
   "outputs": [],
   "source": [
    "b=np.append(a,1000)"
   ]
  },
  {
   "cell_type": "code",
   "execution_count": 35,
   "id": "e8e067f0-e7cb-4a45-8568-acb6a2ca7729",
   "metadata": {},
   "outputs": [
    {
     "data": {
      "text/plain": [
       "array([45, 46, 42, 20, 47])"
      ]
     },
     "execution_count": 35,
     "metadata": {},
     "output_type": "execute_result"
    }
   ],
   "source": [
    "a"
   ]
  },
  {
   "cell_type": "code",
   "execution_count": 36,
   "id": "31c68802-b13e-43b9-ace3-9fca900efd80",
   "metadata": {},
   "outputs": [
    {
     "data": {
      "text/plain": [
       "array([  45,   46,   42,   20,   47, 1000])"
      ]
     },
     "execution_count": 36,
     "metadata": {},
     "output_type": "execute_result"
    }
   ],
   "source": [
    "b"
   ]
  },
  {
   "cell_type": "code",
   "execution_count": 37,
   "id": "681afd81-141c-4ba4-84de-78e28465dc7c",
   "metadata": {},
   "outputs": [],
   "source": [
    "b=np.append(a,[10,20,30,40])"
   ]
  },
  {
   "cell_type": "code",
   "execution_count": 38,
   "id": "0c713a29-5b16-4683-8a67-b2147dc4173b",
   "metadata": {},
   "outputs": [
    {
     "data": {
      "text/plain": [
       "array([45, 46, 42, 20, 47, 10, 20, 30, 40])"
      ]
     },
     "execution_count": 38,
     "metadata": {},
     "output_type": "execute_result"
    }
   ],
   "source": [
    "b"
   ]
  },
  {
   "cell_type": "code",
   "execution_count": 39,
   "id": "645a0e85-27f0-4f35-8f22-72abc42b8801",
   "metadata": {},
   "outputs": [
    {
     "data": {
      "text/plain": [
       "45"
      ]
     },
     "execution_count": 39,
     "metadata": {},
     "output_type": "execute_result"
    }
   ],
   "source": [
    "a[0]"
   ]
  },
  {
   "cell_type": "code",
   "execution_count": 40,
   "id": "f65bfcd3-1c7d-49a8-b54f-b4f1af87947e",
   "metadata": {},
   "outputs": [],
   "source": [
    "a[0]=99"
   ]
  },
  {
   "cell_type": "code",
   "execution_count": 41,
   "id": "80a79bd6-e8ed-4e02-9305-13c543f18944",
   "metadata": {},
   "outputs": [
    {
     "data": {
      "text/plain": [
       "array([99, 46, 42, 20, 47])"
      ]
     },
     "execution_count": 41,
     "metadata": {},
     "output_type": "execute_result"
    }
   ],
   "source": [
    "a"
   ]
  },
  {
   "cell_type": "code",
   "execution_count": 42,
   "id": "ea6c0049-8c2c-4a34-8ce4-04141790db94",
   "metadata": {},
   "outputs": [],
   "source": [
    "a[[0,1]]=15"
   ]
  },
  {
   "cell_type": "code",
   "execution_count": 43,
   "id": "2b37884a-2332-43fd-8eb2-e2fd66861a0f",
   "metadata": {},
   "outputs": [
    {
     "data": {
      "text/plain": [
       "array([15, 15, 42, 20, 47])"
      ]
     },
     "execution_count": 43,
     "metadata": {},
     "output_type": "execute_result"
    }
   ],
   "source": [
    "a"
   ]
  },
  {
   "cell_type": "code",
   "execution_count": 46,
   "id": "8b1df5c7-8705-4e18-8996-82838390c31d",
   "metadata": {},
   "outputs": [
    {
     "data": {
      "text/plain": [
       "array([ 90, 100,  42,  20,  47])"
      ]
     },
     "execution_count": 46,
     "metadata": {},
     "output_type": "execute_result"
    }
   ],
   "source": [
    "a[[0,1]]=[90,100]\n",
    "a"
   ]
  },
  {
   "cell_type": "code",
   "execution_count": null,
   "id": "6053b7e0-98d7-4f19-8abc-c829081a8d8b",
   "metadata": {},
   "outputs": [],
   "source": []
  },
  {
   "cell_type": "code",
   "execution_count": 51,
   "id": "8697d053-ae6f-4799-a3f9-e73db240ba26",
   "metadata": {},
   "outputs": [
    {
     "name": "stdout",
     "output_type": "stream",
     "text": [
      "[42 20 47]\n"
     ]
    }
   ],
   "source": [
    "a3=np.delete(a,[0,1])\n",
    "print(a3)"
   ]
  },
  {
   "cell_type": "code",
   "execution_count": 52,
   "id": "2a7ed88d-5f3c-4ea0-88da-29069f9ab8e1",
   "metadata": {},
   "outputs": [
    {
     "data": {
      "text/plain": [
       "array([1, 2, 3, 4])"
      ]
     },
     "execution_count": 52,
     "metadata": {},
     "output_type": "execute_result"
    }
   ],
   "source": [
    "a=np.array([1,2,3,4])\n",
    "a"
   ]
  },
  {
   "cell_type": "code",
   "execution_count": 53,
   "id": "c833c415-8a72-42e7-8454-8b7c0ac68bf7",
   "metadata": {},
   "outputs": [],
   "source": [
    "b=a.copy()"
   ]
  },
  {
   "cell_type": "code",
   "execution_count": 54,
   "id": "47bf9b01-47bd-40d7-b1ff-ae72471080cc",
   "metadata": {},
   "outputs": [
    {
     "data": {
      "text/plain": [
       "array([1, 2, 3, 4])"
      ]
     },
     "execution_count": 54,
     "metadata": {},
     "output_type": "execute_result"
    }
   ],
   "source": [
    "b"
   ]
  },
  {
   "cell_type": "code",
   "execution_count": 55,
   "id": "55cfe60e-a88c-4550-95c9-235b6978546b",
   "metadata": {},
   "outputs": [
    {
     "data": {
      "text/plain": [
       "1"
      ]
     },
     "execution_count": 55,
     "metadata": {},
     "output_type": "execute_result"
    }
   ],
   "source": [
    "b[0]"
   ]
  },
  {
   "cell_type": "code",
   "execution_count": 57,
   "id": "86cde719-fabc-4de7-b6cb-3a66fcc7498c",
   "metadata": {},
   "outputs": [
    {
     "name": "stdout",
     "output_type": "stream",
     "text": [
      "1921470684720\n",
      "1921470684720\n"
     ]
    }
   ],
   "source": [
    "print(id(a))\n",
    "print(id(a))"
   ]
  },
  {
   "cell_type": "code",
   "execution_count": 60,
   "id": "873effa4-b43e-411f-acb9-cd6320472439",
   "metadata": {},
   "outputs": [
    {
     "data": {
      "text/plain": [
       "array([ 2,  3,  5, 10, 11])"
      ]
     },
     "execution_count": 60,
     "metadata": {},
     "output_type": "execute_result"
    }
   ],
   "source": [
    "a=np.array([10,11,2,3,5])\n",
    "b=np.sort(a)\n",
    "b"
   ]
  },
  {
   "cell_type": "code",
   "execution_count": 63,
   "id": "f8d17b1a-6582-4f54-bf4e-0cc43e024633",
   "metadata": {},
   "outputs": [
    {
     "data": {
      "text/plain": [
       "array([10, 11,  2,  3,  5])"
      ]
     },
     "execution_count": 63,
     "metadata": {},
     "output_type": "execute_result"
    }
   ],
   "source": [
    "a=np.array([10,11,2,3,5])\n",
    "a"
   ]
  },
  {
   "cell_type": "code",
   "execution_count": 62,
   "id": "f52464d3-baca-45f3-9da4-ba7b0d2659d0",
   "metadata": {},
   "outputs": [
    {
     "data": {
      "text/plain": [
       "array([11, 12,  3,  4,  6])"
      ]
     },
     "execution_count": 62,
     "metadata": {},
     "output_type": "execute_result"
    }
   ],
   "source": [
    "a+1"
   ]
  },
  {
   "cell_type": "code",
   "execution_count": 66,
   "id": "3b26cc0c-5000-4174-b709-edf549e35bc8",
   "metadata": {},
   "outputs": [
    {
     "data": {
      "text/plain": [
       "array([20, 22,  4,  6, 10])"
      ]
     },
     "execution_count": 66,
     "metadata": {},
     "output_type": "execute_result"
    }
   ],
   "source": [
    "b=a*2\n",
    "b"
   ]
  },
  {
   "cell_type": "code",
   "execution_count": 67,
   "id": "1adbed70-74a5-4689-be62-e78afd43d235",
   "metadata": {},
   "outputs": [
    {
     "data": {
      "text/plain": [
       "array([30, 33,  6,  9, 15])"
      ]
     },
     "execution_count": 67,
     "metadata": {},
     "output_type": "execute_result"
    }
   ],
   "source": [
    "a+b"
   ]
  },
  {
   "cell_type": "code",
   "execution_count": 68,
   "id": "065c4989-6347-4334-a096-f3949569365b",
   "metadata": {},
   "outputs": [
    {
     "data": {
      "text/plain": [
       "array([-10, -11,  -2,  -3,  -5])"
      ]
     },
     "execution_count": 68,
     "metadata": {},
     "output_type": "execute_result"
    }
   ],
   "source": [
    "a-b"
   ]
  },
  {
   "cell_type": "code",
   "execution_count": 69,
   "id": "6de78569-a231-4d88-878a-b39def0a772b",
   "metadata": {},
   "outputs": [
    {
     "data": {
      "text/plain": [
       "array([200, 242,   8,  18,  50])"
      ]
     },
     "execution_count": 69,
     "metadata": {},
     "output_type": "execute_result"
    }
   ],
   "source": [
    "a*b"
   ]
  },
  {
   "cell_type": "code",
   "execution_count": 72,
   "id": "058513a6-5c27-4140-aadd-dcd043cdd33b",
   "metadata": {},
   "outputs": [
    {
     "data": {
      "text/plain": [
       "array([10, 11,  2,  3,  5])"
      ]
     },
     "execution_count": 72,
     "metadata": {},
     "output_type": "execute_result"
    }
   ],
   "source": [
    "a"
   ]
  },
  {
   "cell_type": "code",
   "execution_count": 73,
   "id": "f0b84683-b56d-45b7-967a-82a1e0e502f4",
   "metadata": {},
   "outputs": [
    {
     "data": {
      "text/plain": [
       "array([20, 22,  4,  6, 10])"
      ]
     },
     "execution_count": 73,
     "metadata": {},
     "output_type": "execute_result"
    }
   ],
   "source": [
    "b"
   ]
  },
  {
   "cell_type": "code",
   "execution_count": 74,
   "id": "879e96c0-4ff8-4a6d-8b65-d9b1717082ee",
   "metadata": {},
   "outputs": [
    {
     "data": {
      "text/plain": [
       "array([False, False, False, False, False])"
      ]
     },
     "execution_count": 74,
     "metadata": {},
     "output_type": "execute_result"
    }
   ],
   "source": [
    "a==b"
   ]
  },
  {
   "cell_type": "code",
   "execution_count": 75,
   "id": "f0d7c870-6dc1-47b3-99b0-7af13e7b4cb4",
   "metadata": {},
   "outputs": [
    {
     "data": {
      "text/plain": [
       "array([False, False, False, False, False])"
      ]
     },
     "execution_count": 75,
     "metadata": {},
     "output_type": "execute_result"
    }
   ],
   "source": [
    "a>b"
   ]
  },
  {
   "cell_type": "code",
   "execution_count": 76,
   "id": "7313a74d-7c37-4f3e-bdac-6f0bcfb07854",
   "metadata": {},
   "outputs": [
    {
     "data": {
      "text/plain": [
       "array([False, False, False, False, False])"
      ]
     },
     "execution_count": 76,
     "metadata": {},
     "output_type": "execute_result"
    }
   ],
   "source": [
    "b<a"
   ]
  },
  {
   "cell_type": "code",
   "execution_count": 77,
   "id": "eef53219-5656-4439-9e0d-d88b614b33b5",
   "metadata": {},
   "outputs": [
    {
     "data": {
      "text/plain": [
       "array([ True,  True,  True,  True,  True])"
      ]
     },
     "execution_count": 77,
     "metadata": {},
     "output_type": "execute_result"
    }
   ],
   "source": [
    "a<b"
   ]
  },
  {
   "cell_type": "code",
   "execution_count": 78,
   "id": "0e050da2-f24d-4b52-a773-dc6ead5a6445",
   "metadata": {},
   "outputs": [
    {
     "data": {
      "text/plain": [
       "False"
      ]
     },
     "execution_count": 78,
     "metadata": {},
     "output_type": "execute_result"
    }
   ],
   "source": [
    "np.array_equal(a,b)"
   ]
  },
  {
   "cell_type": "code",
   "execution_count": 81,
   "id": "2318e2f2-e4ae-4f88-b4d8-3d54f0dd7802",
   "metadata": {},
   "outputs": [
    {
     "data": {
      "text/plain": [
       "False"
      ]
     },
     "execution_count": 81,
     "metadata": {},
     "output_type": "execute_result"
    }
   ],
   "source": [
    "np.array_equal(b,a)"
   ]
  },
  {
   "cell_type": "code",
   "execution_count": 82,
   "id": "06efcefe-5de8-492f-83bb-f648686e46c2",
   "metadata": {},
   "outputs": [
    {
     "data": {
      "text/plain": [
       "array([2.20264658e+04, 5.98741417e+04, 7.38905610e+00, 2.00855369e+01,\n",
       "       1.48413159e+02])"
      ]
     },
     "execution_count": 82,
     "metadata": {},
     "output_type": "execute_result"
    }
   ],
   "source": [
    "np.exp(a)"
   ]
  },
  {
   "cell_type": "code",
   "execution_count": 83,
   "id": "2857a7c0-7372-4587-9603-d3cbdbae06ab",
   "metadata": {},
   "outputs": [
    {
     "data": {
      "text/plain": [
       "array([2.30258509, 2.39789527, 0.69314718, 1.09861229, 1.60943791])"
      ]
     },
     "execution_count": 83,
     "metadata": {},
     "output_type": "execute_result"
    }
   ],
   "source": [
    "np.log(a)"
   ]
  },
  {
   "cell_type": "code",
   "execution_count": 84,
   "id": "3e443e6a-0cee-41f3-8be8-260c1b03bfd6",
   "metadata": {},
   "outputs": [
    {
     "data": {
      "text/plain": [
       "array([[0, 1, 2, 3],\n",
       "       [4, 5, 6, 7]])"
      ]
     },
     "execution_count": 84,
     "metadata": {},
     "output_type": "execute_result"
    }
   ],
   "source": [
    "b=np.array([[0,1,2,3],[4,5,6,7]])\n",
    "b"
   ]
  },
  {
   "cell_type": "code",
   "execution_count": 85,
   "id": "38bec199-281d-4c4c-8a29-c54acc79d61d",
   "metadata": {},
   "outputs": [
    {
     "data": {
      "text/plain": [
       "2"
      ]
     },
     "execution_count": 85,
     "metadata": {},
     "output_type": "execute_result"
    }
   ],
   "source": [
    "b.ndim"
   ]
  },
  {
   "cell_type": "code",
   "execution_count": 86,
   "id": "ba1b7c18-546a-4aae-8497-937af44e64b7",
   "metadata": {},
   "outputs": [
    {
     "data": {
      "text/plain": [
       "(2, 4)"
      ]
     },
     "execution_count": 86,
     "metadata": {},
     "output_type": "execute_result"
    }
   ],
   "source": [
    "b.shape"
   ]
  },
  {
   "cell_type": "code",
   "execution_count": 87,
   "id": "b1178639-0adb-419a-907b-954524a31112",
   "metadata": {},
   "outputs": [
    {
     "data": {
      "text/plain": [
       "array([[0., 0., 0.],\n",
       "       [0., 0., 0.],\n",
       "       [0., 0., 0.]])"
      ]
     },
     "execution_count": 87,
     "metadata": {},
     "output_type": "execute_result"
    }
   ],
   "source": [
    "np.zeros((3,3))"
   ]
  },
  {
   "cell_type": "code",
   "execution_count": 88,
   "id": "836b2f09-d396-4e74-9179-f382a38f0149",
   "metadata": {},
   "outputs": [
    {
     "data": {
      "text/plain": [
       "array([[1., 1., 1.],\n",
       "       [1., 1., 1.],\n",
       "       [1., 1., 1.]])"
      ]
     },
     "execution_count": 88,
     "metadata": {},
     "output_type": "execute_result"
    }
   ],
   "source": [
    "np.ones((3,3))"
   ]
  },
  {
   "cell_type": "code",
   "execution_count": 89,
   "id": "14281ccb-f46d-4e7c-8a9e-4e2681a3f966",
   "metadata": {},
   "outputs": [
    {
     "data": {
      "text/plain": [
       "array([[1., 1., 1., ..., 1., 1., 1.],\n",
       "       [1., 1., 1., ..., 1., 1., 1.],\n",
       "       [1., 1., 1., ..., 1., 1., 1.],\n",
       "       ...,\n",
       "       [1., 1., 1., ..., 1., 1., 1.],\n",
       "       [1., 1., 1., ..., 1., 1., 1.],\n",
       "       [1., 1., 1., ..., 1., 1., 1.]])"
      ]
     },
     "execution_count": 89,
     "metadata": {},
     "output_type": "execute_result"
    }
   ],
   "source": [
    "np.ones((40,40))"
   ]
  },
  {
   "cell_type": "code",
   "execution_count": 90,
   "id": "1fda3150-8bba-4e56-af20-cae28a3d9046",
   "metadata": {},
   "outputs": [
    {
     "data": {
      "text/plain": [
       "array([[1., 0., 0.],\n",
       "       [0., 1., 0.],\n",
       "       [0., 0., 1.]])"
      ]
     },
     "execution_count": 90,
     "metadata": {},
     "output_type": "execute_result"
    }
   ],
   "source": [
    "np.eye(3,3)"
   ]
  },
  {
   "cell_type": "code",
   "execution_count": 91,
   "id": "7f62156f-e3d7-4872-bfd8-6245aba41b8f",
   "metadata": {},
   "outputs": [
    {
     "data": {
      "text/plain": [
       "array([[1, 0, 0, 0],\n",
       "       [0, 2, 0, 0],\n",
       "       [0, 0, 4, 0],\n",
       "       [0, 0, 0, 4]])"
      ]
     },
     "execution_count": 91,
     "metadata": {},
     "output_type": "execute_result"
    }
   ],
   "source": [
    "np.diag([1,2,4,4])"
   ]
  },
  {
   "cell_type": "code",
   "execution_count": 93,
   "id": "3eb1cb2f-0ab8-4b38-af5c-1145804407b4",
   "metadata": {},
   "outputs": [],
   "source": [
    "a=np.array([[10,20,30],[40,50,60],[70,80,80]])"
   ]
  },
  {
   "cell_type": "code",
   "execution_count": 94,
   "id": "d47a7346-4528-49e0-be8e-198d069837bd",
   "metadata": {},
   "outputs": [
    {
     "data": {
      "text/plain": [
       "array([[10, 20, 30],\n",
       "       [40, 50, 60],\n",
       "       [70, 80, 80]])"
      ]
     },
     "execution_count": 94,
     "metadata": {},
     "output_type": "execute_result"
    }
   ],
   "source": [
    "a"
   ]
  },
  {
   "cell_type": "code",
   "execution_count": 95,
   "id": "85bd5183-e96a-4f93-825a-43d5f9f7042f",
   "metadata": {},
   "outputs": [
    {
     "data": {
      "text/plain": [
       "array([10, 20, 30])"
      ]
     },
     "execution_count": 95,
     "metadata": {},
     "output_type": "execute_result"
    }
   ],
   "source": [
    "a[0] #all coloumn by default"
   ]
  },
  {
   "cell_type": "code",
   "execution_count": 96,
   "id": "48ad44da-ff09-46ff-a37b-cbf478f8e66d",
   "metadata": {},
   "outputs": [
    {
     "data": {
      "text/plain": [
       "20"
      ]
     },
     "execution_count": 96,
     "metadata": {},
     "output_type": "execute_result"
    }
   ],
   "source": [
    "a[0][1]"
   ]
  },
  {
   "cell_type": "code",
   "execution_count": 97,
   "id": "033b4ff2-d653-4446-9d59-c1afdbfcca32",
   "metadata": {},
   "outputs": [
    {
     "data": {
      "text/plain": [
       "80"
      ]
     },
     "execution_count": 97,
     "metadata": {},
     "output_type": "execute_result"
    }
   ],
   "source": [
    "a[2][2]"
   ]
  },
  {
   "cell_type": "code",
   "execution_count": 98,
   "id": "8ac21f20-fe8c-4179-9267-d4db6d72793b",
   "metadata": {},
   "outputs": [],
   "source": [
    "a[1]=[100,200,300]"
   ]
  },
  {
   "cell_type": "code",
   "execution_count": 99,
   "id": "9be15eaa-c237-47ec-b630-7ac32c49f978",
   "metadata": {},
   "outputs": [
    {
     "data": {
      "text/plain": [
       "array([[ 10,  20,  30],\n",
       "       [100, 200, 300],\n",
       "       [ 70,  80,  80]])"
      ]
     },
     "execution_count": 99,
     "metadata": {},
     "output_type": "execute_result"
    }
   ],
   "source": [
    "a"
   ]
  },
  {
   "cell_type": "code",
   "execution_count": 100,
   "id": "7e0fd294-ed0c-4b35-bcd8-e397c6b2c83c",
   "metadata": {},
   "outputs": [],
   "source": [
    "a[0,2]=500"
   ]
  },
  {
   "cell_type": "code",
   "execution_count": 101,
   "id": "8f730cf9-26f5-4a6c-b5ea-67785b9fb628",
   "metadata": {},
   "outputs": [
    {
     "data": {
      "text/plain": [
       "array([[ 10,  20, 500],\n",
       "       [100, 200, 300],\n",
       "       [ 70,  80,  80]])"
      ]
     },
     "execution_count": 101,
     "metadata": {},
     "output_type": "execute_result"
    }
   ],
   "source": [
    "a"
   ]
  },
  {
   "cell_type": "code",
   "execution_count": 103,
   "id": "1b768c1b-905a-4df9-a059-2c701eb6ae2b",
   "metadata": {},
   "outputs": [],
   "source": [
    "a[1,2]=600"
   ]
  },
  {
   "cell_type": "code",
   "execution_count": 104,
   "id": "14293c78-3f59-4273-8b6f-46ee375bb015",
   "metadata": {},
   "outputs": [
    {
     "data": {
      "text/plain": [
       "array([[ 10,  20, 500],\n",
       "       [100, 200, 600],\n",
       "       [ 70,  80,  80]])"
      ]
     },
     "execution_count": 104,
     "metadata": {},
     "output_type": "execute_result"
    }
   ],
   "source": [
    "a"
   ]
  },
  {
   "cell_type": "code",
   "execution_count": 105,
   "id": "9d5ba014-bf43-4fa1-87cd-eff438e6ebde",
   "metadata": {},
   "outputs": [
    {
     "data": {
      "text/plain": [
       "array([[ 10,  20, 500],\n",
       "       [100, 200, 600],\n",
       "       [ 70,  80,  80]])"
      ]
     },
     "execution_count": 105,
     "metadata": {},
     "output_type": "execute_result"
    }
   ],
   "source": [
    "a"
   ]
  },
  {
   "cell_type": "code",
   "execution_count": 112,
   "id": "c2641416-7bdf-48b3-a149-893db0fe7777",
   "metadata": {},
   "outputs": [
    {
     "data": {
      "text/plain": [
       "(9,)"
      ]
     },
     "execution_count": 112,
     "metadata": {},
     "output_type": "execute_result"
    }
   ],
   "source": [
    "#Flattening:converting array to 1D array\n",
    "b=a.ravel()\n",
    "type(b)\n",
    "b.shape"
   ]
  },
  {
   "cell_type": "code",
   "execution_count": 108,
   "id": "725ed2e2-f993-4610-927e-c17d986161fd",
   "metadata": {},
   "outputs": [
    {
     "data": {
      "text/plain": [
       "array([[ 10,  20, 500],\n",
       "       [100, 200, 600],\n",
       "       [ 70,  80,  80]])"
      ]
     },
     "execution_count": 108,
     "metadata": {},
     "output_type": "execute_result"
    }
   ],
   "source": [
    "b.reshape(3,3)"
   ]
  },
  {
   "cell_type": "code",
   "execution_count": 113,
   "id": "c2abeb85-bf8c-4608-9f31-c1431dde23b2",
   "metadata": {},
   "outputs": [
    {
     "name": "stdout",
     "output_type": "stream",
     "text": [
      "(9,)\n"
     ]
    }
   ],
   "source": [
    "type(b)\n",
    "print(b.shape)"
   ]
  },
  {
   "cell_type": "code",
   "execution_count": 114,
   "id": "7edd50cf-664c-4616-ab45-fd70f4883a0a",
   "metadata": {},
   "outputs": [],
   "source": [
    "c=a.T"
   ]
  },
  {
   "cell_type": "code",
   "execution_count": 115,
   "id": "dffc1cb1-38fb-479e-b679-f1d7fac37d25",
   "metadata": {},
   "outputs": [
    {
     "data": {
      "text/plain": [
       "array([[ 10, 100,  70],\n",
       "       [ 20, 200,  80],\n",
       "       [500, 600,  80]])"
      ]
     },
     "execution_count": 115,
     "metadata": {},
     "output_type": "execute_result"
    }
   ],
   "source": [
    "c"
   ]
  },
  {
   "cell_type": "code",
   "execution_count": 116,
   "id": "75e18dd9-d65f-49f6-bb4f-5e809bfcdb1e",
   "metadata": {},
   "outputs": [],
   "source": [
    "#sorting\n",
    "a=np.array([[10,20,30],[40,50,60],[70,80,80]])"
   ]
  },
  {
   "cell_type": "code",
   "execution_count": 117,
   "id": "c20e0073-fd53-4b73-b8b3-f3623916e9b8",
   "metadata": {},
   "outputs": [
    {
     "data": {
      "text/plain": [
       "array([[10, 20, 30],\n",
       "       [40, 50, 60],\n",
       "       [70, 80, 80]])"
      ]
     },
     "execution_count": 117,
     "metadata": {},
     "output_type": "execute_result"
    }
   ],
   "source": [
    "a"
   ]
  },
  {
   "cell_type": "code",
   "execution_count": 120,
   "id": "d223a933-aa8b-4a4d-9a2f-64d36f382b5c",
   "metadata": {},
   "outputs": [],
   "source": [
    "b=np.sort(a,axis=0)"
   ]
  },
  {
   "cell_type": "code",
   "execution_count": 121,
   "id": "08ebb0fe-bda8-4b6f-bea3-4f04f5a80499",
   "metadata": {},
   "outputs": [
    {
     "data": {
      "text/plain": [
       "array([[10, 20, 30],\n",
       "       [40, 50, 60],\n",
       "       [70, 80, 80]])"
      ]
     },
     "execution_count": 121,
     "metadata": {},
     "output_type": "execute_result"
    }
   ],
   "source": [
    "b"
   ]
  },
  {
   "cell_type": "code",
   "execution_count": 122,
   "id": "26b12793-a444-4e9c-b212-4b39fc380d9e",
   "metadata": {},
   "outputs": [],
   "source": [
    "# Creating a 2D array (list of lists)\n",
    "arr = np.array([\n",
    "    [1, 2, 3],\n",
    "    [4, 5, 6],\n",
    "    [7, 8, 9]\n",
    "])\n",
    "\n"
   ]
  },
  {
   "cell_type": "code",
   "execution_count": 123,
   "id": "91c6d9ce-349d-4ec3-a5df-43b5e5d248af",
   "metadata": {},
   "outputs": [
    {
     "data": {
      "text/plain": [
       "array([[1, 2, 3],\n",
       "       [4, 5, 6],\n",
       "       [7, 8, 9]])"
      ]
     },
     "execution_count": 123,
     "metadata": {},
     "output_type": "execute_result"
    }
   ],
   "source": [
    "arr"
   ]
  },
  {
   "cell_type": "code",
   "execution_count": 124,
   "id": "6cd7aa35-7f47-4251-ae46-7a1246012dae",
   "metadata": {},
   "outputs": [
    {
     "data": {
      "text/plain": [
       "array([[10, 20, 30],\n",
       "       [40, 50, 60],\n",
       "       [70, 80, 80]])"
      ]
     },
     "execution_count": 124,
     "metadata": {},
     "output_type": "execute_result"
    }
   ],
   "source": [
    "a"
   ]
  },
  {
   "cell_type": "code",
   "execution_count": 125,
   "id": "ef1e124b-9fcd-43ba-8cba-d1fd6191be0e",
   "metadata": {},
   "outputs": [
    {
     "data": {
      "text/plain": [
       "array([[11, 22, 33],\n",
       "       [44, 55, 66],\n",
       "       [77, 88, 89]])"
      ]
     },
     "execution_count": 125,
     "metadata": {},
     "output_type": "execute_result"
    }
   ],
   "source": [
    "a+arr"
   ]
  },
  {
   "cell_type": "code",
   "execution_count": 126,
   "id": "258b6f8b-e7bd-4aa8-836a-80ab004284f7",
   "metadata": {},
   "outputs": [
    {
     "data": {
      "text/plain": [
       "array([[ 10,  40,  90],\n",
       "       [160, 250, 360],\n",
       "       [490, 640, 720]])"
      ]
     },
     "execution_count": 126,
     "metadata": {},
     "output_type": "execute_result"
    }
   ],
   "source": [
    "a*arr"
   ]
  },
  {
   "cell_type": "code",
   "execution_count": 127,
   "id": "b35fc503-115e-44e9-bddf-96f5b67a8c51",
   "metadata": {},
   "outputs": [
    {
     "data": {
      "text/plain": [
       "array([[ 300,  360,  420],\n",
       "       [ 660,  810,  960],\n",
       "       [ 950, 1180, 1410]])"
      ]
     },
     "execution_count": 127,
     "metadata": {},
     "output_type": "execute_result"
    }
   ],
   "source": [
    "np.matmul(a,arr)"
   ]
  },
  {
   "cell_type": "code",
   "execution_count": 132,
   "id": "3a1e5387-e2bc-41c5-b3b1-f97ccb2eeb51",
   "metadata": {},
   "outputs": [],
   "source": [
    "# np.concatnate((a,b),axis=0)"
   ]
  },
  {
   "cell_type": "code",
   "execution_count": null,
   "id": "91a05b09-8cb4-47ec-a8c1-148e283acf71",
   "metadata": {},
   "outputs": [],
   "source": []
  }
 ],
 "metadata": {
  "kernelspec": {
   "display_name": "Python 3 (ipykernel)",
   "language": "python",
   "name": "python3"
  },
  "language_info": {
   "codemirror_mode": {
    "name": "ipython",
    "version": 3
   },
   "file_extension": ".py",
   "mimetype": "text/x-python",
   "name": "python",
   "nbconvert_exporter": "python",
   "pygments_lexer": "ipython3",
   "version": "3.10.7"
  }
 },
 "nbformat": 4,
 "nbformat_minor": 5
}
